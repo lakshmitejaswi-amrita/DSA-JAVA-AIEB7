{
 "cells": [
  {
   "cell_type": "markdown",
   "metadata": {},
   "source": [
    "### CUSTOMER TICKET SUPPORT SYSTEM\n",
    "We are developing an Airline Customer Ticket Support System to efficiently handle and resolve passenger issues. Travelers often face various problems—some requiring immediate attention, while others can be addressed later. Traditionally, customer service agents manually assign priority levels and departments, but this process is prone to human error, leading to delays and inefficiencies.  \n",
    "\n",
    "To streamline this, we are implementing an automated support system using `linked lists` and `Object-Oriented Programming (OOP)`. This system will automatically categorize tickets, assign them to the right department based on the issue, and set priorities accordingly. By reducing manual errors and optimizing ticket handling, we aim to enhance customer satisfaction and improve resolution times for a smoother airline experience."
   ]
  },
  {
   "cell_type": "markdown",
   "metadata": {},
   "source": [
    "OOPs in Java:\n",
    "Object-Oriented Programming (OOP) in Java is a programming paradigm that uses objects and classes to organize code for better modularity, reusability, and maintainability.\n",
    "\n",
    "### Classes and Objects in Java (OOPs)\n",
    "\n",
    "In Java, a class is a blueprint or template that defines the attributes and behaviours of objects, while an object is an instance of a class that has its own state and behaviour.\n",
    "\n",
    "- Class: A user-defined data type that defines variables (attributes) and methods (behaviours).\n",
    "- Object: A real-world entity that is created from a class and has its own values for attributes.\n",
    "\n",
    "- Attributes: Variables defined within a class that store the state or characteristics of an object.\n",
    "\n",
    "### Principles of OOP:\n",
    "1. `Abstraction`: Hiding implementation details while exposing only the necessary functionalities to the user. It is achieved in Java through abstract classes and interfaces.\n",
    "2. `Encapsulation`: Restricting direct access to certain data fields and only allowing controlled access through getters and setters. This helps in data protection and maintains integrity.\n",
    "3. `Inheritance`: Allowing a class to acquire properties and behaviours from another class using extends or implements.\n",
    "4. `Polymorphism`: The ability of a method or object to take multiple forms.\n"
   ]
  },
  {
   "cell_type": "markdown",
   "metadata": {},
   "source": [
    "### CLASSES AND FUNCTIONS:\n",
    "\n",
    "1. ticket class: We are using a class named `ticket` in our code, which has attributes as `ticket_id`, `customer_name`, `customer_problem`, `priority`, `department`, and `time` for the instances of the class.\n",
    "\n",
    "   - ticket_id: This attribute describes the ID of the customer ticket.\n",
    "   - customer_name: This attribute stores the customer's name.\n",
    "   - customer_problem: This attribute describes the problem of the customer.  \n",
    "     Example: Unable to log in to the account, Payment not processed for booking...\n",
    "   - priority: This attribute describes the priority level of the ticket, such as high, low, or medium.\n",
    "   - department: This attribute describes the department the ticket should be assigned to.\n",
    "   - time: This attribute is used to track the duration the ticket has been open, also to track the resolution time.\n",
    "\n",
    "2. ticketsystem class: We are using a class named `ticketsystem`, which includes several functions like `add_ticket`, `search_ticket`, `delete_ticket`, and `display_tickets`.\n",
    "\n",
    "   - add_ticket: This function helps the user add a ticket to the data structure depending on the problem priority.\n",
    "   - del_ticket: This function helps the user delete a ticket from the data structure after the ticket is closed.\n",
    "   - search_ticket: This function helps the user search for a ticket in the data structure and see the details about it.\n",
    "   - display_tickets: This function helps the user see the information about all the tickets stored in the data structure to date.\n"
   ]
  },
  {
   "cell_type": "markdown",
   "metadata": {},
   "source": [
    "### Why linked list?\n",
    "\n",
    "a. It dynamically grows as tickets are added, unlike arrays that require resizing.\n",
    "\n",
    "b. Efficient insertion and deletion:\n",
    "  Adding or removing tickets (especially at front or middle) is efficient.\n",
    "\n",
    "c. It represents the sequential flow of tickets well, ensuring they're processed in the correct order.\n",
    "\n",
    "d. Real Time Changes: Tickets are constantly being created, resolved, and modified in real-time. A linked list is better for this fluidity because it can handle changes (like adding new tickets or removing resolved ones) without needing or reallocate or copy elements.\n",
    "\n",
    "Key Advantages:\n",
    "\n",
    "a. Dynamic memory allocation: no fixed size is required, memory is allocated or needed.\n",
    "\n",
    "b. Efficient reordering: Priority tickets can be inserted in the correct position without shifting other tickets.\n",
    "\n",
    "Why not array?\n",
    "\n",
    "a. Fixed size: due to the predefined sizes, which limits flexibility.\n",
    "\n",
    "b. Insertion/deletion:\n",
    " Adding the tickets in the middle or front requires shifting elements.\n",
    "\n",
    "c. Waste of memory: If the array is too large, unused slots waste memory.\n",
    "\n",
    "Why not Stacks?\n",
    "\n",
    "a. Only the top ticket can be processed, which isn't suitable for prioritization.\n",
    "\n",
    "b. Cannot handle dynamic priority and lifecycle tracking.\n",
    "\n",
    "Why not queue?\n",
    "\n",
    ".Queue doesn't allow flexibility in terms of prioritizing tickets or moving tickets between different teams. You might need to prioritize certain tickets over others, which a queue isn't designed to handle."
   ]
  },
  {
   "cell_type": "markdown",
   "metadata": {},
   "source": [
    "### DATASET"
   ]
  },
  {
   "cell_type": "code",
   "execution_count": 3,
   "metadata": {},
   "outputs": [
    {
     "name": "stdout",
     "output_type": "stream",
     "text": [
      "dataset     Ticket ID Customer Name        Issue Type Priority Assigned Department  \\\n",
      "0        1001         Alice      Flight Delay     High   Flight Operations   \n",
      "1        1002           Bob      Lost Baggage   Medium    Luggage Handling   \n",
      "2        1003       Charlie    Refund Request     High     Billing Support   \n",
      "3        1004         David     Booking Issue      Low     Booking Support   \n",
      "4        1005          Emma  Check-in Problem   Medium    Customer Service   \n",
      "5        1006         Frank      Seat Upgrade      Low     Booking Support   \n",
      "6        1007         Grace   Payment Failure     High     Billing Support   \n",
      "7        1008        Hannah      Lost Baggage   Medium    Luggage Handling   \n",
      "8        1009         Isaac     Booking Issue      Low     Booking Support   \n",
      "9        1010          Jack    Refund Request     High     Billing Support   \n",
      "10       1011          Kate      Flight Delay     High   Flight Operations   \n",
      "11       1012          Liam  Check-in Problem   Medium    Customer Service   \n",
      "12       1013           Mia      Seat Upgrade      Low     Booking Support   \n",
      "13       1014          Noah      Lost Baggage   Medium    Luggage Handling   \n",
      "14       1015        Olivia   Payment Failure     High     Billing Support   \n",
      "15       1016          Paul     Booking Issue      Low     Booking Support   \n",
      "16       1017         Quinn    Refund Request     High     Billing Support   \n",
      "17       1018          Ryan      Flight Delay     High   Flight Operations   \n",
      "18       1019        Sophia      Seat Upgrade      Low     Booking Support   \n",
      "19       1020           Tom      Lost Baggage   Medium    Luggage Handling   \n",
      "20       1021        Ursula     Booking Issue      Low     Booking Support   \n",
      "21       1022        Victor    Refund Request     High     Billing Support   \n",
      "22       1023         Wendy      Flight Delay     High   Flight Operations   \n",
      "23       1024        Xavier  Check-in Problem   Medium    Customer Service   \n",
      "24       1025       Yasmine   Payment Failure     High     Billing Support   \n",
      "\n",
      "         Status Created Date  \n",
      "0          Open   2025-01-01  \n",
      "1   In Progress   2025-01-02  \n",
      "2      Resolved   2025-01-03  \n",
      "3          Open   2025-01-04  \n",
      "4   In Progress   2025-01-05  \n",
      "5        Closed   2025-01-06  \n",
      "6      Resolved   2025-01-07  \n",
      "7   In Progress   2025-01-08  \n",
      "8          Open   2025-01-09  \n",
      "9      Resolved   2025-01-10  \n",
      "10         Open   2025-01-11  \n",
      "11  In Progress   2025-01-12  \n",
      "12       Closed   2025-01-13  \n",
      "13  In Progress   2025-01-14  \n",
      "14     Resolved   2025-01-15  \n",
      "15         Open   2025-01-16  \n",
      "16     Resolved   2025-01-17  \n",
      "17         Open   2025-01-18  \n",
      "18       Closed   2025-01-19  \n",
      "19  In Progress   2025-01-20  \n",
      "20         Open   2025-01-21  \n",
      "21     Resolved   2025-01-22  \n",
      "22         Open   2025-01-23  \n",
      "23  In Progress   2025-01-24  \n",
      "24     Resolved   2025-01-25  \n"
     ]
    }
   ],
   "source": [
    "\n",
    "import pandas as pd\n",
    "dataframe=pd.read_excel(\"C:\\\\Users\\\\WIN 10\\\\OneDrive\\\\Desktop\\\\data for dsa project.xlsx\")\n",
    "print(\"dataset\",dataframe)"
   ]
  }
 ],
 "metadata": {
  "kernelspec": {
   "display_name": "base",
   "language": "python",
   "name": "python3"
  },
  "language_info": {
   "codemirror_mode": {
    "name": "ipython",
    "version": 3
   },
   "file_extension": ".py",
   "mimetype": "text/x-python",
   "name": "python",
   "nbconvert_exporter": "python",
   "pygments_lexer": "ipython3",
   "version": "3.12.7"
  }
 },
 "nbformat": 4,
 "nbformat_minor": 2
}
