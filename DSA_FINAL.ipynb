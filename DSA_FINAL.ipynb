{
 "cells": [
  {
   "cell_type": "code",
   "execution_count": 1,
   "id": "a485bee3-cf67-4500-955f-61dc328a02cc",
   "metadata": {},
   "outputs": [
    {
     "name": "stdout",
     "output_type": "stream",
     "text": [
      "\n",
      "1. Customer\n",
      "2. Employee\n",
      "3. Exit\n"
     ]
    },
    {
     "name": "stdin",
     "output_type": "stream",
     "text": [
      "Select role:  1\n"
     ]
    },
    {
     "name": "stdout",
     "output_type": "stream",
     "text": [
      "\n",
      "Customer Menu:\n",
      "1. Add Ticket\n",
      "2. Delete Ticket\n",
      "3. Track Ticket\n",
      "4. Exit\n"
     ]
    },
    {
     "name": "stdin",
     "output_type": "stream",
     "text": [
      "Enter choice:  1\n"
     ]
    },
    {
     "name": "stdout",
     "output_type": "stream",
     "text": [
      "Select an Issue:\n",
      "1. Flight Delay\n",
      "2. Baggage Lost\n",
      "3. Seat Change Request\n",
      "4. Refund Request\n",
      "5. Flight Cancellation\n",
      "6. Meal Preference Change\n",
      "7. Overbooking Issue\n",
      "8. Missed Connecting Flight\n",
      "9. Damaged Baggage\n",
      "10. Check-in Issues\n",
      "11. Wrong Name on Ticket\n",
      "12. Duplicate Booking\n",
      "13. Refund Delay\n",
      "14. Upgrade Request\n",
      "15. Flight Rescheduling\n"
     ]
    },
    {
     "name": "stdin",
     "output_type": "stream",
     "text": [
      "Enter issue number:  1\n"
     ]
    },
    {
     "name": "stdout",
     "output_type": "stream",
     "text": [
      "Ticket Added: ID=101, Issue=Flight Delay, Status=Unassigned, Department=Support\n",
      "\n",
      "Customer Menu:\n",
      "1. Add Ticket\n",
      "2. Delete Ticket\n",
      "3. Track Ticket\n",
      "4. Exit\n"
     ]
    },
    {
     "name": "stdin",
     "output_type": "stream",
     "text": [
      "Enter choice:  3\n",
      "Enter Ticket ID to track:  102\n"
     ]
    },
    {
     "name": "stdout",
     "output_type": "stream",
     "text": [
      "Ticket ID not found.\n",
      "\n",
      "Customer Menu:\n",
      "1. Add Ticket\n",
      "2. Delete Ticket\n",
      "3. Track Ticket\n",
      "4. Exit\n"
     ]
    },
    {
     "name": "stdin",
     "output_type": "stream",
     "text": [
      "Enter choice:  4\n"
     ]
    },
    {
     "name": "stdout",
     "output_type": "stream",
     "text": [
      "\n",
      "1. Customer\n",
      "2. Employee\n",
      "3. Exit\n"
     ]
    },
    {
     "name": "stdin",
     "output_type": "stream",
     "text": [
      "Select role:  2\n",
      "Enter username:  support_emp1\n",
      "Enter password:  support456\n"
     ]
    },
    {
     "name": "stdout",
     "output_type": "stream",
     "text": [
      "Invalid credentials.\n",
      "\n",
      "1. Customer\n",
      "2. Employee\n",
      "3. Exit\n"
     ]
    },
    {
     "name": "stdin",
     "output_type": "stream",
     "text": [
      "Select role:  2\n",
      "Enter username:  support_emp1\n",
      "Enter password:  support123\n"
     ]
    },
    {
     "name": "stdout",
     "output_type": "stream",
     "text": [
      "Login successful.\n",
      "\n",
      "Employee Menu [Support Department]:\n",
      "1. Display Tickets\n",
      "2. Update Ticket Status\n",
      "3. Delete Ticket\n",
      "4. View Deleted Tickets\n",
      "5. Logout\n"
     ]
    },
    {
     "name": "stdin",
     "output_type": "stream",
     "text": [
      "Enter choice:  2\n",
      "Enter Ticket ID to update:  102\n"
     ]
    },
    {
     "name": "stdout",
     "output_type": "stream",
     "text": [
      "Ticket ID not found.\n",
      "\n",
      "Employee Menu [Support Department]:\n",
      "1. Display Tickets\n",
      "2. Update Ticket Status\n",
      "3. Delete Ticket\n",
      "4. View Deleted Tickets\n",
      "5. Logout\n"
     ]
    },
    {
     "name": "stdin",
     "output_type": "stream",
     "text": [
      "Enter choice:  1\n"
     ]
    },
    {
     "name": "stdout",
     "output_type": "stream",
     "text": [
      "\n",
      "---- Tickets for Support Department ----\n",
      "ID: 101, Issue: Flight Delay, Status: Unassigned, Priority: 2, Created At: 2025-04-19 04:07:40.381194\n",
      "--------------------------------------------\n",
      "\n",
      "Employee Menu [Support Department]:\n",
      "1. Display Tickets\n",
      "2. Update Ticket Status\n",
      "3. Delete Ticket\n",
      "4. View Deleted Tickets\n",
      "5. Logout\n"
     ]
    },
    {
     "name": "stdin",
     "output_type": "stream",
     "text": [
      "Enter choice:  3\n",
      "Enter Ticket ID to delete:  103\n"
     ]
    },
    {
     "name": "stdout",
     "output_type": "stream",
     "text": [
      "Ticket ID not found.\n",
      "\n",
      "Employee Menu [Support Department]:\n",
      "1. Display Tickets\n",
      "2. Update Ticket Status\n",
      "3. Delete Ticket\n",
      "4. View Deleted Tickets\n",
      "5. Logout\n"
     ]
    },
    {
     "name": "stdin",
     "output_type": "stream",
     "text": [
      "Enter choice:  4\n"
     ]
    },
    {
     "name": "stdout",
     "output_type": "stream",
     "text": [
      "\n",
      "---- Deleted Tickets for Support Department ----\n",
      "No deleted tickets for your department.\n",
      "--------------------------------------------\n",
      "\n",
      "Employee Menu [Support Department]:\n",
      "1. Display Tickets\n",
      "2. Update Ticket Status\n",
      "3. Delete Ticket\n",
      "4. View Deleted Tickets\n",
      "5. Logout\n"
     ]
    },
    {
     "name": "stdin",
     "output_type": "stream",
     "text": [
      "Enter choice:  5\n"
     ]
    },
    {
     "name": "stdout",
     "output_type": "stream",
     "text": [
      "Logging out...\n",
      "\n",
      "1. Customer\n",
      "2. Employee\n",
      "3. Exit\n"
     ]
    },
    {
     "name": "stdin",
     "output_type": "stream",
     "text": [
      "Select role:  1\n"
     ]
    },
    {
     "name": "stdout",
     "output_type": "stream",
     "text": [
      "\n",
      "Customer Menu:\n",
      "1. Add Ticket\n",
      "2. Delete Ticket\n",
      "3. Track Ticket\n",
      "4. Exit\n"
     ]
    },
    {
     "name": "stdin",
     "output_type": "stream",
     "text": [
      "Enter choice:  3\n",
      "Enter Ticket ID to track:  101\n"
     ]
    },
    {
     "name": "stdout",
     "output_type": "stream",
     "text": [
      "Ticket ID: 101, Issue: Flight Delay, Status: Waiting for assignment\n",
      "\n",
      "Customer Menu:\n",
      "1. Add Ticket\n",
      "2. Delete Ticket\n",
      "3. Track Ticket\n",
      "4. Exit\n"
     ]
    },
    {
     "name": "stdin",
     "output_type": "stream",
     "text": [
      "Enter choice:  4\n"
     ]
    },
    {
     "name": "stdout",
     "output_type": "stream",
     "text": [
      "\n",
      "1. Customer\n",
      "2. Employee\n",
      "3. Exit\n"
     ]
    },
    {
     "name": "stdin",
     "output_type": "stream",
     "text": [
      "Select role:  3\n"
     ]
    },
    {
     "name": "stdout",
     "output_type": "stream",
     "text": [
      "Exiting system.\n"
     ]
    }
   ],
   "source": [
    "import datetime\n",
    "\n",
    "class Ticket:\n",
    "    def __init__(self, ticket_id, issue, priority, status=\"Unassigned\", department=None):\n",
    "        self.ticket_id = ticket_id\n",
    "        self.issue = issue\n",
    "        self.priority = priority\n",
    "        self.status = status\n",
    "        self.department = department\n",
    "        self.creation_time = datetime.datetime.now()\n",
    "        self.next = None\n",
    "\n",
    "class TicketSystem:\n",
    "    def __init__(self):\n",
    "        self.head = None\n",
    "        self.ticket_counter = 101\n",
    "        self.deleted_tickets = []\n",
    "\n",
    "        self.departments = {\n",
    "            \"Flight Delay\": \"Support\",\n",
    "            \"Baggage Lost\": \"Support\",\n",
    "            \"Seat Change Request\": \"Management\",\n",
    "            \"Refund Request\": \"Billing\",\n",
    "            \"Flight Cancellation\": \"Technical\",\n",
    "            \"Meal Preference Change\": \"Management\",\n",
    "            \"Overbooking Issue\": \"Management\",\n",
    "            \"Missed Connecting Flight\": \"Support\",\n",
    "            \"Damaged Baggage\": \"Support\",\n",
    "            \"Check-in Issues\": \"Support\",\n",
    "            \"Wrong Name on Ticket\": \"Management\",\n",
    "            \"Duplicate Booking\": \"Technical\",\n",
    "            \"Refund Delay\": \"Billing\",\n",
    "            \"Upgrade Request\": \"Management\",\n",
    "            \"Flight Rescheduling\": \"Technical\"\n",
    "        }\n",
    "\n",
    "        self.issue_priority = {\n",
    "            issue: priority for issue, priority in zip(self.departments.keys(), [2, 1, 3, 1, 2, 3, 2, 1, 2, 3, 2, 2, 1, 3, 2])\n",
    "        }\n",
    "\n",
    "        self.employee_credentials = {\n",
    "            \"support_emp1\": {\"password\": \"support123\", \"department\": \"Support\"},\n",
    "            \"support_emp2\": {\"password\": \"support456\", \"department\": \"Support\"},\n",
    "            \"billing_emp1\": {\"password\": \"billing123\", \"department\": \"Billing\"},\n",
    "            \"management_emp1\": {\"password\": \"manage123\", \"department\": \"Management\"},\n",
    "            \"management_emp2\": {\"password\": \"manage456\", \"department\": \"Management\"},\n",
    "            \"technical_emp1\": {\"password\": \"tech123\", \"department\": \"Technical\"},\n",
    "            \"technical_emp2\": {\"password\": \"tech456\", \"department\": \"Technical\"},\n",
    "        }\n",
    "\n",
    "    def add_ticket(self, issue):\n",
    "        if issue not in self.issue_priority:\n",
    "            print(\"Invalid issue. Please select a valid issue.\")\n",
    "            return\n",
    "\n",
    "        priority = self.issue_priority[issue]\n",
    "        department = self.departments[issue]\n",
    "        new_ticket = Ticket(self.ticket_counter, issue, priority, department=department)\n",
    "        self.ticket_counter += 1\n",
    "\n",
    "        if not self.head or self.head.priority > new_ticket.priority:\n",
    "            new_ticket.next = self.head\n",
    "            self.head = new_ticket\n",
    "        else:\n",
    "            temp = self.head\n",
    "            while temp.next and temp.next.priority <= new_ticket.priority:\n",
    "                temp = temp.next\n",
    "            new_ticket.next = temp.next\n",
    "            temp.next = new_ticket\n",
    "\n",
    "        print(f\"Ticket Added: ID={new_ticket.ticket_id}, Issue={new_ticket.issue}, Status={new_ticket.status}, Department={new_ticket.department}\")\n",
    "\n",
    "    def delete_ticket(self, ticket_id, department=None):\n",
    "        temp = self.head\n",
    "        prev = None\n",
    "        while temp and temp.ticket_id != ticket_id:\n",
    "            prev = temp\n",
    "            temp = temp.next\n",
    "\n",
    "        if not temp:\n",
    "            print(\"Ticket ID not found.\")\n",
    "            return\n",
    "\n",
    "        if department and temp.department != department:\n",
    "            print(\"Unauthorized: Cannot delete tickets outside your department.\")\n",
    "            return\n",
    "\n",
    "        if not prev:\n",
    "            self.head = temp.next\n",
    "        else:\n",
    "            prev.next = temp.next\n",
    "\n",
    "        self.deleted_tickets.append(temp)\n",
    "        print(f\"Deleted Ticket {ticket_id}.\")\n",
    "\n",
    "    def view_deleted_tickets_by_department(self, department):\n",
    "        found = False\n",
    "        print(f\"\\n---- Deleted Tickets for {department} Department ----\")\n",
    "        for ticket in self.deleted_tickets:\n",
    "            if ticket.department == department:\n",
    "                print(f\"ID: {ticket.ticket_id}, Issue: {ticket.issue}, Status: {ticket.status}, Priority: {ticket.priority}\")\n",
    "                found = True\n",
    "        if not found:\n",
    "            print(\"No deleted tickets for your department.\")\n",
    "        print(\"--------------------------------------------\")\n",
    "\n",
    "    def update_ticket(self, ticket_id, new_status=None, department=None):\n",
    "        temp = self.head\n",
    "        while temp:\n",
    "            if temp.ticket_id == ticket_id:\n",
    "                if department and temp.department != department:\n",
    "                    print(\"Unauthorized: Cannot update tickets outside your department.\")\n",
    "                    return\n",
    "                if new_status in [\"Open\", \"In Progress\", \"Resolved\", \"Closed\"]:\n",
    "                    temp.status = new_status\n",
    "                    print(f\"Updated Ticket {ticket_id}: Status={temp.status}\")\n",
    "                else:\n",
    "                    print(\"Invalid status.\")\n",
    "                return\n",
    "            temp = temp.next\n",
    "        print(\"Ticket ID not found.\")\n",
    "\n",
    "    def display_tickets_by_department(self, department):\n",
    "        temp = self.head\n",
    "        found = False\n",
    "        print(f\"\\n---- Tickets for {department} Department ----\")\n",
    "        while temp:\n",
    "            if temp.department == department:\n",
    "                print(f\"ID: {temp.ticket_id}, Issue: {temp.issue}, Status: {temp.status}, Priority: {temp.priority}, Created At: {temp.creation_time}\")\n",
    "                found = True\n",
    "            temp = temp.next\n",
    "        if not found:\n",
    "            print(\"No tickets found.\")\n",
    "        print(\"--------------------------------------------\")\n",
    "\n",
    "    def track_ticket(self, ticket_id, is_employee=False):\n",
    "        temp = self.head\n",
    "        while temp:\n",
    "            if temp.ticket_id == ticket_id:\n",
    "                visible_status = \"Waiting for assignment\" if temp.status.lower() == \"unassigned\" else temp.status\n",
    "                if is_employee:\n",
    "                    print(f\"Ticket Status: ID={temp.ticket_id}, Issue={temp.issue}, Status={visible_status}, Department={temp.department}, Created At: {temp.creation_time}\")\n",
    "                else:\n",
    "                    print(f\"Ticket ID: {temp.ticket_id}, Issue: {temp.issue}, Status: {visible_status}\")\n",
    "                return\n",
    "            temp = temp.next\n",
    "        print(\"Ticket ID not found.\")\n",
    "\n",
    "    def authenticate_employee(self):\n",
    "        username = input(\"Enter username: \").strip()\n",
    "        password = input(\"Enter password: \").strip()\n",
    "\n",
    "        if username in self.employee_credentials and self.employee_credentials[username][\"password\"] == password:\n",
    "            print(\"Login successful.\")\n",
    "            return self.employee_credentials[username][\"department\"]\n",
    "        else:\n",
    "            print(\"Invalid credentials.\")\n",
    "            return None\n",
    "\n",
    "    def menu(self):\n",
    "        while True:\n",
    "            print(\"\\n1. Customer\\n2. Employee\\n3. Exit\")\n",
    "            role = input(\"Select role: \").strip()\n",
    "\n",
    "            if role == '1':\n",
    "                while True:\n",
    "                    print(\"\\nCustomer Menu:\\n1. Add Ticket\\n2. Delete Ticket\\n3. Track Ticket\\n4. Exit\")\n",
    "                    choice = input(\"Enter choice: \").strip()\n",
    "                    if choice == '1':\n",
    "                        print(\"Select an Issue:\")\n",
    "                        for i, issue in enumerate(self.issue_priority.keys(), 1):\n",
    "                            print(f\"{i}. {issue}\")\n",
    "                        try:\n",
    "                            issue_choice = int(input(\"Enter issue number: \").strip())\n",
    "                            issue_list = list(self.issue_priority.keys())\n",
    "                            if 1 <= issue_choice <= len(issue_list):\n",
    "                                self.add_ticket(issue_list[issue_choice - 1])\n",
    "                            else:\n",
    "                                print(\"Invalid choice.\")\n",
    "                        except ValueError:\n",
    "                            print(\"Enter a valid number.\")\n",
    "                    elif choice == '2':\n",
    "                        try:\n",
    "                            ticket_id = int(input(\"Enter Ticket ID to delete: \").strip())\n",
    "                            self.delete_ticket(ticket_id)\n",
    "                        except ValueError:\n",
    "                            print(\"Enter a valid Ticket ID.\")\n",
    "                    elif choice == '3':\n",
    "                        try:\n",
    "                            ticket_id = int(input(\"Enter Ticket ID to track: \").strip())\n",
    "                            self.track_ticket(ticket_id)\n",
    "                        except ValueError:\n",
    "                            print(\"Enter a valid Ticket ID.\")\n",
    "                    elif choice == '4':\n",
    "                        break\n",
    "                    else:\n",
    "                        print(\"Invalid choice.\")\n",
    "\n",
    "            elif role == '2':\n",
    "                department = self.authenticate_employee()\n",
    "                if not department:\n",
    "                    continue\n",
    "\n",
    "                while True:\n",
    "                    print(f\"\\nEmployee Menu [{department} Department]:\")\n",
    "                    print(\"1. Display Tickets\\n2. Update Ticket Status\\n3. Delete Ticket\\n4. View Deleted Tickets\\n5. Logout\")\n",
    "                    choice = input(\"Enter choice: \").strip()\n",
    "                    if choice == '1':\n",
    "                        self.display_tickets_by_department(department)\n",
    "                    elif choice == '2':\n",
    "                        try:\n",
    "                            ticket_id = int(input(\"Enter Ticket ID to update: \").strip())\n",
    "                            temp = self.head\n",
    "                            ticket = None\n",
    "                            while temp:\n",
    "                                if temp.ticket_id == ticket_id:\n",
    "                                    ticket = temp\n",
    "                                    break\n",
    "                                temp = temp.next\n",
    "\n",
    "                            if not ticket:\n",
    "                                print(\"Ticket ID not found.\")\n",
    "                                continue\n",
    "                            if ticket.department != department:\n",
    "                                print(\"Unauthorized: This ticket does not belong to your department.\")\n",
    "                                continue\n",
    "\n",
    "                            valid_statuses = [\"Open\", \"In Progress\", \"Resolved\", \"Closed\"]\n",
    "                            while True:\n",
    "                                new_status = input(\"Enter new status (Open, In Progress, Resolved, Closed): \").strip()\n",
    "                                if new_status.lower() in [s.lower() for s in valid_statuses]:\n",
    "                                    new_status = next(s for s in valid_statuses if s.lower() == new_status.lower())\n",
    "                                    break\n",
    "                                else:\n",
    "                                    print(\"Invalid status entered. Please try again.\")\n",
    "\n",
    "                            self.update_ticket(ticket_id, new_status=new_status, department=department)\n",
    "                        except ValueError:\n",
    "                            print(\"Enter a valid Ticket ID.\")\n",
    "                    elif choice == '3':\n",
    "                        try:\n",
    "                            ticket_id = int(input(\"Enter Ticket ID to delete: \").strip())\n",
    "                            self.delete_ticket(ticket_id, department=department)\n",
    "                        except ValueError:\n",
    "                            print(\"Enter a valid Ticket ID.\")\n",
    "                    elif choice == '4':\n",
    "                        self.view_deleted_tickets_by_department(department)\n",
    "                    elif choice == '5':\n",
    "                        print(\"Logging out...\")\n",
    "                        break\n",
    "                    else:\n",
    "                        print(\"Invalid choice.\")\n",
    "            elif role == '3':\n",
    "                print(\"Exiting system.\")\n",
    "                break\n",
    "            else:\n",
    "                print(\"Invalid choice. Try again.\")\n",
    "\n",
    "# Run the system\n",
    "ticket_system = TicketSystem()\n",
    "ticket_system.menu()\n"
   ]
  },
  {
   "cell_type": "code",
   "execution_count": null,
   "id": "1aa79513-fde5-4a9c-b0c4-3ff20b4f47da",
   "metadata": {},
   "outputs": [],
   "source": []
  }
 ],
 "metadata": {
  "kernelspec": {
   "display_name": "Python 3 (ipykernel)",
   "language": "python",
   "name": "python3"
  },
  "language_info": {
   "codemirror_mode": {
    "name": "ipython",
    "version": 3
   },
   "file_extension": ".py",
   "mimetype": "text/x-python",
   "name": "python",
   "nbconvert_exporter": "python",
   "pygments_lexer": "ipython3",
   "version": "3.12.4"
  }
 },
 "nbformat": 4,
 "nbformat_minor": 5
}
